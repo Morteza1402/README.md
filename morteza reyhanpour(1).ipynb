{
 "cells": [
  {
   "cell_type": "markdown",
   "id": "57b9c2f7-9ab4-4fa0-9a0d-02eaa76c9cdd",
   "metadata": {},
   "source": [
    "# Data Science Tools and Ecosystem\n",
    "In this notebook, Data Science Tools and Ecosystem are summarized."
   ]
  },
  {
   "cell_type": "markdown",
   "id": "3f94c894-f111-4edd-a970-ea123220faf6",
   "metadata": {},
   "source": [
    "|Some of the popular languages that Data Scientists use are:|\n",
    "|------|\n",
    "| listing 3 |\n",
    "    1. c#\n",
    "    2. Python\n",
    "    3. java\n",
    "    4. javaScript\n",
    "    "
   ]
  },
  {
   "cell_type": "markdown",
   "id": "1dfcff09-e5fa-4ad2-b6e4-a6f9f7a46a40",
   "metadata": {},
   "source": [
    "|Some of the commonly used libraries used by Data Scientists include:|\n",
    "|------|\n",
    "| listing 3 |\n",
    "1. NumPy\n",
    "2. pandas\n",
    "3. matplotlib\n",
    "4. scikit-learn\n"
   ]
  },
  {
   "cell_type": "markdown",
   "id": "f2623617-daaa-4305-a6b1-d16e6273a259",
   "metadata": {},
   "source": [
    "|Data Science Tools|\n",
    "|-----|\n",
    "|Jupyter Notebooks|\n",
    "|RStudio|\n",
    "|Apache Zeppelin|"
   ]
  },
  {
   "cell_type": "markdown",
   "id": "532d81e8-7bac-4538-b01d-e12f8d840073",
   "metadata": {},
   "source": [
    "### Below are a few examples of evaluating arithmetic expressions in Python\n",
    " Arithmetic expressions involve mathematical operations such as addition, subtraction, multiplication, and division. They are fundamental in mathematical computations and are frequently used in programming and data analysis. Below are some examples of arithmetic expressions:\n",
    " \n",
    "1. **Addition**: Adding two numbers together.\n",
    "5 + 3 = 8\n",
    "2.  **Subtraction**: Finding the difference between two numbers.\n",
    "  10 - 4 = 6\n",
    "3. **Multiplication**: Multiplying two numbers\n",
    "        6 * 2 = 12\n",
    "4. **Division**: Dividing one number by another.\n",
    "   20 / 5 = 4        \n",
    "  \n"
   ]
  },
  {
   "cell_type": "code",
   "execution_count": 3,
   "id": "11acd880-8a99-4ece-b06a-ca329357ed55",
   "metadata": {},
   "outputs": [
    {
     "data": {
      "text/plain": [
       "17"
      ]
     },
     "execution_count": 3,
     "metadata": {},
     "output_type": "execute_result"
    }
   ],
   "source": [
    "# his a simple arithmetic expression to mutiply then add integers\n",
    "(3*4)+5"
   ]
  },
  {
   "cell_type": "code",
   "execution_count": 5,
   "id": "44a3a3c3-4528-49e3-973d-27cbcef947de",
   "metadata": {},
   "outputs": [
    {
     "name": "stdout",
     "output_type": "stream",
     "text": [
      "3.3333333333333335\n"
     ]
    }
   ],
   "source": [
    "# This will convert 200 minutes to hours by diving by 60\n",
    "minutes = 200\n",
    "hours = minutes / 60\n",
    "print(hours)"
   ]
  },
  {
   "cell_type": "markdown",
   "id": "7f3883e4-4fbc-4656-b303-0cb9b715610e",
   "metadata": {},
   "source": [
    " **Objectives:**\n",
    "|i.e. some of the key takeaways from the course|\n",
    "|----|\n",
    "• Describe the components of a Data Scientist's toolkit and list various tool categories\n",
    "• List examples of open-source tools used in data science.\n",
    "• Describe the relevant features of open-source tools.\n",
    "• List examples of commercial and cloud-based data science tools\n"
   ]
  },
  {
   "cell_type": "markdown",
   "id": "d86877de-7b24-48f4-9742-035a9186ade1",
   "metadata": {},
   "source": [
    "## Author\n",
    "Morteza reyhanpour"
   ]
  },
  {
   "cell_type": "code",
   "execution_count": null,
   "id": "fa0d86dd-00db-4bc0-874c-5d33dfb43980",
   "metadata": {},
   "outputs": [],
   "source": []
  },
  {
   "cell_type": "code",
   "execution_count": null,
   "id": "63e4e532-f1a1-4089-b8df-1fc3a2a42254",
   "metadata": {},
   "outputs": [],
   "source": []
  }
 ],
 "metadata": {
  "kernelspec": {
   "display_name": "anaconda-panel-2023.05-py310",
   "language": "python",
   "name": "conda-env-anaconda-panel-2023.05-py310-py"
  },
  "language_info": {
   "codemirror_mode": {
    "name": "ipython",
    "version": 3
   },
   "file_extension": ".py",
   "mimetype": "text/x-python",
   "name": "python",
   "nbconvert_exporter": "python",
   "pygments_lexer": "ipython3",
   "version": "3.11.5"
  }
 },
 "nbformat": 4,
 "nbformat_minor": 5
}
